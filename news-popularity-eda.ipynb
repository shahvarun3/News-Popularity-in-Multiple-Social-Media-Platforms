{
 "cells": [
  {
   "cell_type": "code",
   "execution_count": 1,
   "id": "67c7089c",
   "metadata": {
    "_cell_guid": "b1076dfc-b9ad-4769-8c92-a6c4dae69d19",
    "_uuid": "8f2839f25d086af736a60e9eeb907d3b93b6e0e5",
    "execution": {
     "iopub.execute_input": "2024-04-03T17:08:06.539181Z",
     "iopub.status.busy": "2024-04-03T17:08:06.538283Z",
     "iopub.status.idle": "2024-04-03T17:08:07.371231Z",
     "shell.execute_reply": "2024-04-03T17:08:07.369902Z"
    },
    "papermill": {
     "duration": 0.84273,
     "end_time": "2024-04-03T17:08:07.374922",
     "exception": false,
     "start_time": "2024-04-03T17:08:06.532192",
     "status": "completed"
    },
    "tags": []
   },
   "outputs": [
    {
     "name": "stdout",
     "output_type": "stream",
     "text": [
      "/kaggle/input/news-popularity-in-multiple-social-media-platforms/test_file.csv\n",
      "/kaggle/input/news-popularity-in-multiple-social-media-platforms/train_file.csv\n"
     ]
    }
   ],
   "source": [
    "# This Python 3 environment comes with many helpful analytics libraries installed\n",
    "# It is defined by the kaggle/python Docker image: https://github.com/kaggle/docker-python\n",
    "# For example, here's several helpful packages to load\n",
    "\n",
    "import numpy as np # linear algebra\n",
    "import pandas as pd # data processing, CSV file I/O (e.g. pd.read_csv)\n",
    "\n",
    "# Input data files are available in the read-only \"../input/\" directory\n",
    "# For example, running this (by clicking run or pressing Shift+Enter) will list all files under the input directory\n",
    "\n",
    "import os\n",
    "for dirname, _, filenames in os.walk('/kaggle/input'):\n",
    "    for filename in filenames:\n",
    "        print(os.path.join(dirname, filename))\n",
    "\n",
    "# You can write up to 20GB to the current directory (/kaggle/working/) that gets preserved as output when you create a version using \"Save & Run All\" \n",
    "# You can also write temporary files to /kaggle/temp/, but they won't be saved outside of the current session"
   ]
  },
  {
   "cell_type": "code",
   "execution_count": 2,
   "id": "53b4ac82",
   "metadata": {
    "execution": {
     "iopub.execute_input": "2024-04-03T17:08:07.385594Z",
     "iopub.status.busy": "2024-04-03T17:08:07.385061Z",
     "iopub.status.idle": "2024-04-03T17:08:07.390573Z",
     "shell.execute_reply": "2024-04-03T17:08:07.389600Z"
    },
    "papermill": {
     "duration": 0.01327,
     "end_time": "2024-04-03T17:08:07.392735",
     "exception": false,
     "start_time": "2024-04-03T17:08:07.379465",
     "status": "completed"
    },
    "tags": []
   },
   "outputs": [],
   "source": [
    "\n",
    "import numpy as np\n",
    "import pandas as pd\n",
    "# For visualizations\n",
    "import matplotlib.pyplot as plt\n",
    "# For regular expressions\n",
    "import re\n",
    "# For handling string\n",
    "import string\n",
    "# For performing mathematical operations\n",
    "import math\n",
    "\n",
    "# Importing dataset\n",
    "# df=pd.read_csv('dataset.csv') print(\"Shape of data=>\",df.shape)"
   ]
  },
  {
   "cell_type": "code",
   "execution_count": 3,
   "id": "b467694b",
   "metadata": {
    "execution": {
     "iopub.execute_input": "2024-04-03T17:08:07.401954Z",
     "iopub.status.busy": "2024-04-03T17:08:07.401132Z",
     "iopub.status.idle": "2024-04-03T17:08:08.107562Z",
     "shell.execute_reply": "2024-04-03T17:08:08.106487Z"
    },
    "papermill": {
     "duration": 0.713636,
     "end_time": "2024-04-03T17:08:08.110165",
     "exception": false,
     "start_time": "2024-04-03T17:08:07.396529",
     "status": "completed"
    },
    "tags": []
   },
   "outputs": [],
   "source": [
    "df = pd.read_csv(\"/kaggle/input/news-popularity-in-multiple-social-media-platforms/train_file.csv\")"
   ]
  },
  {
   "cell_type": "code",
   "execution_count": 4,
   "id": "9ac5e5c6",
   "metadata": {
    "execution": {
     "iopub.execute_input": "2024-04-03T17:08:08.119644Z",
     "iopub.status.busy": "2024-04-03T17:08:08.119284Z",
     "iopub.status.idle": "2024-04-03T17:08:08.141317Z",
     "shell.execute_reply": "2024-04-03T17:08:08.140144Z"
    },
    "papermill": {
     "duration": 0.029189,
     "end_time": "2024-04-03T17:08:08.143396",
     "exception": false,
     "start_time": "2024-04-03T17:08:08.114207",
     "status": "completed"
    },
    "tags": []
   },
   "outputs": [
    {
     "data": {
      "text/html": [
       "<div>\n",
       "<style scoped>\n",
       "    .dataframe tbody tr th:only-of-type {\n",
       "        vertical-align: middle;\n",
       "    }\n",
       "\n",
       "    .dataframe tbody tr th {\n",
       "        vertical-align: top;\n",
       "    }\n",
       "\n",
       "    .dataframe thead th {\n",
       "        text-align: right;\n",
       "    }\n",
       "</style>\n",
       "<table border=\"1\" class=\"dataframe\">\n",
       "  <thead>\n",
       "    <tr style=\"text-align: right;\">\n",
       "      <th></th>\n",
       "      <th>IDLink</th>\n",
       "      <th>Title</th>\n",
       "      <th>Headline</th>\n",
       "      <th>Source</th>\n",
       "      <th>Topic</th>\n",
       "      <th>PublishDate</th>\n",
       "      <th>Facebook</th>\n",
       "      <th>GooglePlus</th>\n",
       "      <th>LinkedIn</th>\n",
       "      <th>SentimentTitle</th>\n",
       "      <th>SentimentHeadline</th>\n",
       "    </tr>\n",
       "  </thead>\n",
       "  <tbody>\n",
       "    <tr>\n",
       "      <th>0</th>\n",
       "      <td>Tr3CMgRv1N</td>\n",
       "      <td>Obama Lays Wreath at Arlington National Cemetery</td>\n",
       "      <td>Obama Lays Wreath at Arlington National Cemete...</td>\n",
       "      <td>USA TODAY</td>\n",
       "      <td>obama</td>\n",
       "      <td>2002-04-02 00:00:00</td>\n",
       "      <td>-1</td>\n",
       "      <td>-1</td>\n",
       "      <td>-1</td>\n",
       "      <td>0.000000</td>\n",
       "      <td>-0.053300</td>\n",
       "    </tr>\n",
       "    <tr>\n",
       "      <th>1</th>\n",
       "      <td>Wc81vGp8qZ</td>\n",
       "      <td>A Look at the Health of the Chinese Economy</td>\n",
       "      <td>Tim Haywood, investment director business-unit...</td>\n",
       "      <td>Bloomberg</td>\n",
       "      <td>economy</td>\n",
       "      <td>2008-09-20 00:00:00</td>\n",
       "      <td>-1</td>\n",
       "      <td>-1</td>\n",
       "      <td>-1</td>\n",
       "      <td>0.208333</td>\n",
       "      <td>-0.156386</td>\n",
       "    </tr>\n",
       "    <tr>\n",
       "      <th>2</th>\n",
       "      <td>zNGH03CrZH</td>\n",
       "      <td>Nouriel Roubini: Global Economy Not Back to 2008</td>\n",
       "      <td>Nouriel Roubini, NYU professor and chairman at...</td>\n",
       "      <td>Bloomberg</td>\n",
       "      <td>economy</td>\n",
       "      <td>2012-01-28 00:00:00</td>\n",
       "      <td>-1</td>\n",
       "      <td>-1</td>\n",
       "      <td>-1</td>\n",
       "      <td>-0.425210</td>\n",
       "      <td>0.139754</td>\n",
       "    </tr>\n",
       "    <tr>\n",
       "      <th>3</th>\n",
       "      <td>3sM1H0W8ts</td>\n",
       "      <td>Finland GDP Expands In Q4</td>\n",
       "      <td>Finland's economy expanded marginally in the t...</td>\n",
       "      <td>RTT News</td>\n",
       "      <td>economy</td>\n",
       "      <td>2015-03-01 00:06:00</td>\n",
       "      <td>-1</td>\n",
       "      <td>-1</td>\n",
       "      <td>-1</td>\n",
       "      <td>0.000000</td>\n",
       "      <td>0.026064</td>\n",
       "    </tr>\n",
       "    <tr>\n",
       "      <th>4</th>\n",
       "      <td>wUbnxgvqaZ</td>\n",
       "      <td>Tourism, govt spending buoys Thai economy in J...</td>\n",
       "      <td>Tourism and public spending continued to boost...</td>\n",
       "      <td>The Nation - Thailand&amp;#39;s English news</td>\n",
       "      <td>economy</td>\n",
       "      <td>2015-03-01 00:11:00</td>\n",
       "      <td>-1</td>\n",
       "      <td>-1</td>\n",
       "      <td>-1</td>\n",
       "      <td>0.000000</td>\n",
       "      <td>0.141084</td>\n",
       "    </tr>\n",
       "  </tbody>\n",
       "</table>\n",
       "</div>"
      ],
      "text/plain": [
       "       IDLink                                              Title  \\\n",
       "0  Tr3CMgRv1N   Obama Lays Wreath at Arlington National Cemetery   \n",
       "1  Wc81vGp8qZ        A Look at the Health of the Chinese Economy   \n",
       "2  zNGH03CrZH   Nouriel Roubini: Global Economy Not Back to 2008   \n",
       "3  3sM1H0W8ts                          Finland GDP Expands In Q4   \n",
       "4  wUbnxgvqaZ  Tourism, govt spending buoys Thai economy in J...   \n",
       "\n",
       "                                            Headline  \\\n",
       "0  Obama Lays Wreath at Arlington National Cemete...   \n",
       "1  Tim Haywood, investment director business-unit...   \n",
       "2  Nouriel Roubini, NYU professor and chairman at...   \n",
       "3  Finland's economy expanded marginally in the t...   \n",
       "4  Tourism and public spending continued to boost...   \n",
       "\n",
       "                                     Source    Topic          PublishDate  \\\n",
       "0                                 USA TODAY    obama  2002-04-02 00:00:00   \n",
       "1                                 Bloomberg  economy  2008-09-20 00:00:00   \n",
       "2                                 Bloomberg  economy  2012-01-28 00:00:00   \n",
       "3                                  RTT News  economy  2015-03-01 00:06:00   \n",
       "4  The Nation - Thailand&#39;s English news  economy  2015-03-01 00:11:00   \n",
       "\n",
       "   Facebook  GooglePlus  LinkedIn  SentimentTitle  SentimentHeadline  \n",
       "0        -1          -1        -1        0.000000          -0.053300  \n",
       "1        -1          -1        -1        0.208333          -0.156386  \n",
       "2        -1          -1        -1       -0.425210           0.139754  \n",
       "3        -1          -1        -1        0.000000           0.026064  \n",
       "4        -1          -1        -1        0.000000           0.141084  "
      ]
     },
     "execution_count": 4,
     "metadata": {},
     "output_type": "execute_result"
    }
   ],
   "source": [
    "df.head()"
   ]
  },
  {
   "cell_type": "code",
   "execution_count": 5,
   "id": "95232523",
   "metadata": {
    "execution": {
     "iopub.execute_input": "2024-04-03T17:08:08.152976Z",
     "iopub.status.busy": "2024-04-03T17:08:08.152505Z",
     "iopub.status.idle": "2024-04-03T17:08:08.169212Z",
     "shell.execute_reply": "2024-04-03T17:08:08.168266Z"
    },
    "papermill": {
     "duration": 0.023938,
     "end_time": "2024-04-03T17:08:08.171453",
     "exception": false,
     "start_time": "2024-04-03T17:08:08.147515",
     "status": "completed"
    },
    "tags": []
   },
   "outputs": [],
   "source": [
    "df.drop([\"IDLink\", \"SentimentTitle\", \"SentimentHeadline\"], inplace = True, axis = 1)"
   ]
  },
  {
   "cell_type": "code",
   "execution_count": 6,
   "id": "7a39fe8e",
   "metadata": {
    "execution": {
     "iopub.execute_input": "2024-04-03T17:08:08.181264Z",
     "iopub.status.busy": "2024-04-03T17:08:08.180914Z",
     "iopub.status.idle": "2024-04-03T17:08:10.857855Z",
     "shell.execute_reply": "2024-04-03T17:08:10.856680Z"
    },
    "papermill": {
     "duration": 2.684804,
     "end_time": "2024-04-03T17:08:10.860400",
     "exception": false,
     "start_time": "2024-04-03T17:08:08.175596",
     "status": "completed"
    },
    "tags": []
   },
   "outputs": [],
   "source": [
    "# Dictionary of English Contractions\n",
    "contractions_dict = { \"ain't\": \"are not\",\"'s\":\" is\",\"aren't\": \"are not\",\n",
    "                     \"can't\": \"cannot\",\"can't've\": \"cannot have\",\n",
    "                     \"'cause\": \"because\",\"could've\": \"could have\",\"couldn't\": \"could not\",\n",
    "                     \"couldn't've\": \"could not have\", \"didn't\": \"did not\",\"doesn't\": \"does not\",\n",
    "                     \"don't\": \"do not\",\"hadn't\": \"had not\",\"hadn't've\": \"had not have\",\n",
    "                     \"hasn't\": \"has not\",\"haven't\": \"have not\",\"he'd\": \"he would\",\n",
    "                     \"he'd've\": \"he would have\",\"he'll\": \"he will\", \"he'll've\": \"he will have\",\n",
    "                     \"how'd\": \"how did\",\"how'd'y\": \"how do you\",\"how'll\": \"how will\",\n",
    "                     \"I'd\": \"I would\", \"I'd've\": \"I would have\",\"I'll\": \"I will\",\n",
    "                     \"I'll've\": \"I will have\",\"I'm\": \"I am\",\"I've\": \"I have\", \"isn't\": \"is not\",\n",
    "                     \"it'd\": \"it would\",\"it'd've\": \"it would have\",\"it'll\": \"it will\",\n",
    "                     \"it'll've\": \"it will have\", \"let's\": \"let us\",\"ma'am\": \"madam\",\n",
    "                     \"mayn't\": \"may not\",\"might've\": \"might have\",\"mightn't\": \"might not\", \n",
    "                     \"mightn't've\": \"might not have\",\"must've\": \"must have\",\"mustn't\": \"must not\",\n",
    "                     \"mustn't've\": \"must not have\", \"needn't\": \"need not\",\n",
    "                     \"needn't've\": \"need not have\",\"o'clock\": \"of the clock\",\"oughtn't\": \"ought not\",\n",
    "                     \"oughtn't've\": \"ought not have\",\"shan't\": \"shall not\",\"sha'n't\": \"shall not\",\n",
    "                     \"shan't've\": \"shall not have\",\"she'd\": \"she would\",\"she'd've\": \"she would have\",\n",
    "                     \"she'll\": \"she will\", \"she'll've\": \"she will have\",\"should've\": \"should have\",\n",
    "                     \"shouldn't\": \"should not\", \"shouldn't've\": \"should not have\",\"so've\": \"so have\",\n",
    "                     \"that'd\": \"that would\",\"that'd've\": \"that would have\", \"there'd\": \"there would\",\n",
    "                     \"there'd've\": \"there would have\", \"they'd\": \"they would\",\n",
    "                     \"they'd've\": \"they would have\",\"they'll\": \"they will\",\n",
    "                     \"they'll've\": \"they will have\", \"they're\": \"they are\",\"they've\": \"they have\",\n",
    "                     \"to've\": \"to have\",\"wasn't\": \"was not\",\"we'd\": \"we would\",\n",
    "                     \"we'd've\": \"we would have\",\"we'll\": \"we will\",\"we'll've\": \"we will have\",\n",
    "                     \"we're\": \"we are\",\"we've\": \"we have\", \"weren't\": \"were not\",\"what'll\": \"what will\",\n",
    "                     \"what'll've\": \"what will have\",\"what're\": \"what are\", \"what've\": \"what have\",\n",
    "                     \"when've\": \"when have\",\"where'd\": \"where did\", \"where've\": \"where have\",\n",
    "                     \"who'll\": \"who will\",\"who'll've\": \"who will have\",\"who've\": \"who have\",\n",
    "                     \"why've\": \"why have\",\"will've\": \"will have\",\"won't\": \"will not\",\n",
    "                     \"won't've\": \"will not have\", \"would've\": \"would have\",\"wouldn't\": \"would not\",\n",
    "                     \"wouldn't've\": \"would not have\",\"y'all\": \"you all\", \"y'all'd\": \"you all would\",\n",
    "                     \"y'all'd've\": \"you all would have\",\"y'all're\": \"you all are\",\n",
    "                     \"y'all've\": \"you all have\", \"you'd\": \"you would\",\"you'd've\": \"you would have\",\n",
    "                     \"you'll\": \"you will\",\"you'll've\": \"you will have\", \"you're\": \"you are\",\n",
    "                     \"you've\": \"you have\"}\n",
    "\n",
    "# Regular expression for finding contractions\n",
    "contractions_re=re.compile('(%s)' % '|'.join(contractions_dict.keys()))\n",
    "\n",
    "# Function for expanding contractions\n",
    "def expand_contractions(text,contractions_dict=contractions_dict):\n",
    "  def replace(match):\n",
    "    return contractions_dict[match.group(0)]\n",
    "  return contractions_re.sub(replace, text)\n",
    "\n",
    "# Expanding Contractions in the reviews\n",
    "df['Title']=df['Title'].apply(lambda x:expand_contractions(x))\n",
    "df['Headline']=df['Headline'].apply(lambda x:expand_contractions(x))"
   ]
  },
  {
   "cell_type": "code",
   "execution_count": 7,
   "id": "54555488",
   "metadata": {
    "execution": {
     "iopub.execute_input": "2024-04-03T17:08:10.870352Z",
     "iopub.status.busy": "2024-04-03T17:08:10.869983Z",
     "iopub.status.idle": "2024-04-03T17:08:10.950385Z",
     "shell.execute_reply": "2024-04-03T17:08:10.949151Z"
    },
    "papermill": {
     "duration": 0.088166,
     "end_time": "2024-04-03T17:08:10.952816",
     "exception": false,
     "start_time": "2024-04-03T17:08:10.864650",
     "status": "completed"
    },
    "tags": []
   },
   "outputs": [],
   "source": [
    "df['cleaned_title']=df['Title'].apply(lambda x: x.lower())\n",
    "df['cleaned_headline']=df['Headline'].apply(lambda x: x.lower())"
   ]
  },
  {
   "cell_type": "code",
   "execution_count": 8,
   "id": "de44a4cb",
   "metadata": {
    "execution": {
     "iopub.execute_input": "2024-04-03T17:08:10.962535Z",
     "iopub.status.busy": "2024-04-03T17:08:10.962176Z",
     "iopub.status.idle": "2024-04-03T17:08:12.773333Z",
     "shell.execute_reply": "2024-04-03T17:08:12.772176Z"
    },
    "papermill": {
     "duration": 1.818942,
     "end_time": "2024-04-03T17:08:12.776006",
     "exception": false,
     "start_time": "2024-04-03T17:08:10.957064",
     "status": "completed"
    },
    "tags": []
   },
   "outputs": [],
   "source": [
    "df['cleaned_title']=df['cleaned_title'].apply(lambda x: re.sub('\\w*\\d\\w*','', x))\n",
    "df['cleaned_headline']=df['cleaned_headline'].apply(lambda x: re.sub('\\w*\\d\\w*','', x))"
   ]
  },
  {
   "cell_type": "code",
   "execution_count": 9,
   "id": "06504108",
   "metadata": {
    "execution": {
     "iopub.execute_input": "2024-04-03T17:08:12.791870Z",
     "iopub.status.busy": "2024-04-03T17:08:12.791263Z",
     "iopub.status.idle": "2024-04-03T17:08:13.515615Z",
     "shell.execute_reply": "2024-04-03T17:08:13.514538Z"
    },
    "papermill": {
     "duration": 0.735895,
     "end_time": "2024-04-03T17:08:13.518261",
     "exception": false,
     "start_time": "2024-04-03T17:08:12.782366",
     "status": "completed"
    },
    "tags": []
   },
   "outputs": [],
   "source": [
    "df['cleaned_title']=df['cleaned_title'].apply(lambda x: re.sub('[%s]' % re.escape(string.punctuation), '', x))\n",
    "df['cleaned_headline']=df['cleaned_headline'].apply(lambda x: re.sub('[%s]' % re.escape(string.punctuation), '', x))"
   ]
  },
  {
   "cell_type": "code",
   "execution_count": 10,
   "id": "c75cb3f2",
   "metadata": {
    "execution": {
     "iopub.execute_input": "2024-04-03T17:08:13.528423Z",
     "iopub.status.busy": "2024-04-03T17:08:13.527415Z",
     "iopub.status.idle": "2024-04-03T17:08:14.362116Z",
     "shell.execute_reply": "2024-04-03T17:08:14.361075Z"
    },
    "papermill": {
     "duration": 0.842157,
     "end_time": "2024-04-03T17:08:14.364580",
     "exception": false,
     "start_time": "2024-04-03T17:08:13.522423",
     "status": "completed"
    },
    "tags": []
   },
   "outputs": [],
   "source": [
    "# Removing extra spaces\n",
    "df['cleaned_title']=df['cleaned_title'].apply(lambda x: re.sub(' +',' ',x))\n",
    "df['cleaned_headline']=df['cleaned_headline'].apply(lambda x: re.sub(' +',' ',x))"
   ]
  },
  {
   "cell_type": "code",
   "execution_count": 11,
   "id": "8efb03a3",
   "metadata": {
    "execution": {
     "iopub.execute_input": "2024-04-03T17:08:14.375454Z",
     "iopub.status.busy": "2024-04-03T17:08:14.374498Z",
     "iopub.status.idle": "2024-04-03T17:15:17.765207Z",
     "shell.execute_reply": "2024-04-03T17:15:17.763972Z"
    },
    "papermill": {
     "duration": 423.399197,
     "end_time": "2024-04-03T17:15:17.768075",
     "exception": false,
     "start_time": "2024-04-03T17:08:14.368878",
     "status": "completed"
    },
    "tags": []
   },
   "outputs": [],
   "source": [
    "# Importing spacy\n",
    "import spacy\n",
    "\n",
    "# Loading model\n",
    "nlp = spacy.load('en_core_web_sm',disable=['parser', 'ner'])\n",
    "\n",
    "# Lemmatization with stopwords removal\n",
    "df['lemmatized_title']=df['cleaned_title'].apply(lambda x: ' '.join([token.lemma_ for token in list(nlp(x)) if (token.is_stop==False)]))\n",
    "df['lemmatized_headline']=df['cleaned_headline'].apply(lambda x: ' '.join([token.lemma_ for token in list(nlp(x)) if (token.is_stop==False)]))"
   ]
  },
  {
   "cell_type": "code",
   "execution_count": 12,
   "id": "37bbd099",
   "metadata": {
    "execution": {
     "iopub.execute_input": "2024-04-03T17:15:17.780202Z",
     "iopub.status.busy": "2024-04-03T17:15:17.779313Z",
     "iopub.status.idle": "2024-04-03T17:15:17.798856Z",
     "shell.execute_reply": "2024-04-03T17:15:17.797703Z"
    },
    "papermill": {
     "duration": 0.02831,
     "end_time": "2024-04-03T17:15:17.801246",
     "exception": false,
     "start_time": "2024-04-03T17:15:17.772936",
     "status": "completed"
    },
    "tags": []
   },
   "outputs": [
    {
     "data": {
      "text/html": [
       "<div>\n",
       "<style scoped>\n",
       "    .dataframe tbody tr th:only-of-type {\n",
       "        vertical-align: middle;\n",
       "    }\n",
       "\n",
       "    .dataframe tbody tr th {\n",
       "        vertical-align: top;\n",
       "    }\n",
       "\n",
       "    .dataframe thead th {\n",
       "        text-align: right;\n",
       "    }\n",
       "</style>\n",
       "<table border=\"1\" class=\"dataframe\">\n",
       "  <thead>\n",
       "    <tr style=\"text-align: right;\">\n",
       "      <th></th>\n",
       "      <th>Title</th>\n",
       "      <th>Headline</th>\n",
       "      <th>Source</th>\n",
       "      <th>Topic</th>\n",
       "      <th>PublishDate</th>\n",
       "      <th>Facebook</th>\n",
       "      <th>GooglePlus</th>\n",
       "      <th>LinkedIn</th>\n",
       "      <th>cleaned_title</th>\n",
       "      <th>cleaned_headline</th>\n",
       "      <th>lemmatized_title</th>\n",
       "      <th>lemmatized_headline</th>\n",
       "    </tr>\n",
       "  </thead>\n",
       "  <tbody>\n",
       "    <tr>\n",
       "      <th>0</th>\n",
       "      <td>Obama Lays Wreath at Arlington National Cemetery</td>\n",
       "      <td>Obama Lays Wreath at Arlington National Cemete...</td>\n",
       "      <td>USA TODAY</td>\n",
       "      <td>obama</td>\n",
       "      <td>2002-04-02 00:00:00</td>\n",
       "      <td>-1</td>\n",
       "      <td>-1</td>\n",
       "      <td>-1</td>\n",
       "      <td>obama lays wreath at arlington national cemetery</td>\n",
       "      <td>obama lays wreath at arlington national cemete...</td>\n",
       "      <td>obama lay wreath arlington national cemetery</td>\n",
       "      <td>obama lay wreath arlington national cemetery p...</td>\n",
       "    </tr>\n",
       "    <tr>\n",
       "      <th>1</th>\n",
       "      <td>A Look at the Health of the Chinese Economy</td>\n",
       "      <td>Tim Haywood, investment director business-unit...</td>\n",
       "      <td>Bloomberg</td>\n",
       "      <td>economy</td>\n",
       "      <td>2008-09-20 00:00:00</td>\n",
       "      <td>-1</td>\n",
       "      <td>-1</td>\n",
       "      <td>-1</td>\n",
       "      <td>a look at the health of the chinese economy</td>\n",
       "      <td>tim haywood investment director businessunit h...</td>\n",
       "      <td>look health chinese economy</td>\n",
       "      <td>tim haywood investment director businessunit h...</td>\n",
       "    </tr>\n",
       "    <tr>\n",
       "      <th>2</th>\n",
       "      <td>Nouriel Roubini: Global Economy Not Back to 2008</td>\n",
       "      <td>Nouriel Roubini, NYU professor and chairman at...</td>\n",
       "      <td>Bloomberg</td>\n",
       "      <td>economy</td>\n",
       "      <td>2012-01-28 00:00:00</td>\n",
       "      <td>-1</td>\n",
       "      <td>-1</td>\n",
       "      <td>-1</td>\n",
       "      <td>nouriel roubini global economy not back to</td>\n",
       "      <td>nouriel roubini nyu professor and chairman at ...</td>\n",
       "      <td>nouriel roubini global economy</td>\n",
       "      <td>nouriel roubini nyu professor chairman roubini...</td>\n",
       "    </tr>\n",
       "    <tr>\n",
       "      <th>3</th>\n",
       "      <td>Finland GDP Expands In Q4</td>\n",
       "      <td>Finland is economy expanded marginally in the ...</td>\n",
       "      <td>RTT News</td>\n",
       "      <td>economy</td>\n",
       "      <td>2015-03-01 00:06:00</td>\n",
       "      <td>-1</td>\n",
       "      <td>-1</td>\n",
       "      <td>-1</td>\n",
       "      <td>finland gdp expands in</td>\n",
       "      <td>finland is economy expanded marginally in the ...</td>\n",
       "      <td>finland gdp expand</td>\n",
       "      <td>finland economy expand marginally month end de...</td>\n",
       "    </tr>\n",
       "    <tr>\n",
       "      <th>4</th>\n",
       "      <td>Tourism, govt spending buoys Thai economy in J...</td>\n",
       "      <td>Tourism and public spending continued to boost...</td>\n",
       "      <td>The Nation - Thailand&amp;#39;s English news</td>\n",
       "      <td>economy</td>\n",
       "      <td>2015-03-01 00:11:00</td>\n",
       "      <td>-1</td>\n",
       "      <td>-1</td>\n",
       "      <td>-1</td>\n",
       "      <td>tourism govt spending buoys thai economy in ja...</td>\n",
       "      <td>tourism and public spending continued to boost...</td>\n",
       "      <td>tourism govt spending buoy thai economy january</td>\n",
       "      <td>tourism public spending continue boost economy...</td>\n",
       "    </tr>\n",
       "  </tbody>\n",
       "</table>\n",
       "</div>"
      ],
      "text/plain": [
       "                                               Title  \\\n",
       "0   Obama Lays Wreath at Arlington National Cemetery   \n",
       "1        A Look at the Health of the Chinese Economy   \n",
       "2   Nouriel Roubini: Global Economy Not Back to 2008   \n",
       "3                          Finland GDP Expands In Q4   \n",
       "4  Tourism, govt spending buoys Thai economy in J...   \n",
       "\n",
       "                                            Headline  \\\n",
       "0  Obama Lays Wreath at Arlington National Cemete...   \n",
       "1  Tim Haywood, investment director business-unit...   \n",
       "2  Nouriel Roubini, NYU professor and chairman at...   \n",
       "3  Finland is economy expanded marginally in the ...   \n",
       "4  Tourism and public spending continued to boost...   \n",
       "\n",
       "                                     Source    Topic          PublishDate  \\\n",
       "0                                 USA TODAY    obama  2002-04-02 00:00:00   \n",
       "1                                 Bloomberg  economy  2008-09-20 00:00:00   \n",
       "2                                 Bloomberg  economy  2012-01-28 00:00:00   \n",
       "3                                  RTT News  economy  2015-03-01 00:06:00   \n",
       "4  The Nation - Thailand&#39;s English news  economy  2015-03-01 00:11:00   \n",
       "\n",
       "   Facebook  GooglePlus  LinkedIn  \\\n",
       "0        -1          -1        -1   \n",
       "1        -1          -1        -1   \n",
       "2        -1          -1        -1   \n",
       "3        -1          -1        -1   \n",
       "4        -1          -1        -1   \n",
       "\n",
       "                                       cleaned_title  \\\n",
       "0   obama lays wreath at arlington national cemetery   \n",
       "1        a look at the health of the chinese economy   \n",
       "2        nouriel roubini global economy not back to    \n",
       "3                            finland gdp expands in    \n",
       "4  tourism govt spending buoys thai economy in ja...   \n",
       "\n",
       "                                    cleaned_headline  \\\n",
       "0  obama lays wreath at arlington national cemete...   \n",
       "1  tim haywood investment director businessunit h...   \n",
       "2  nouriel roubini nyu professor and chairman at ...   \n",
       "3  finland is economy expanded marginally in the ...   \n",
       "4  tourism and public spending continued to boost...   \n",
       "\n",
       "                                  lemmatized_title  \\\n",
       "0     obama lay wreath arlington national cemetery   \n",
       "1                      look health chinese economy   \n",
       "2                   nouriel roubini global economy   \n",
       "3                               finland gdp expand   \n",
       "4  tourism govt spending buoy thai economy january   \n",
       "\n",
       "                                 lemmatized_headline  \n",
       "0  obama lay wreath arlington national cemetery p...  \n",
       "1  tim haywood investment director businessunit h...  \n",
       "2  nouriel roubini nyu professor chairman roubini...  \n",
       "3  finland economy expand marginally month end de...  \n",
       "4  tourism public spending continue boost economy...  "
      ]
     },
     "execution_count": 12,
     "metadata": {},
     "output_type": "execute_result"
    }
   ],
   "source": [
    "df.head()"
   ]
  },
  {
   "cell_type": "code",
   "execution_count": null,
   "id": "1516498e",
   "metadata": {
    "papermill": {
     "duration": 0.004262,
     "end_time": "2024-04-03T17:15:17.810180",
     "exception": false,
     "start_time": "2024-04-03T17:15:17.805918",
     "status": "completed"
    },
    "tags": []
   },
   "outputs": [],
   "source": []
  }
 ],
 "metadata": {
  "kaggle": {
   "accelerator": "none",
   "dataSources": [
    {
     "datasetId": 943558,
     "sourceId": 1599023,
     "sourceType": "datasetVersion"
    }
   ],
   "dockerImageVersionId": 30673,
   "isGpuEnabled": false,
   "isInternetEnabled": true,
   "language": "python",
   "sourceType": "notebook"
  },
  "kernelspec": {
   "display_name": "Python 3",
   "language": "python",
   "name": "python3"
  },
  "language_info": {
   "codemirror_mode": {
    "name": "ipython",
    "version": 3
   },
   "file_extension": ".py",
   "mimetype": "text/x-python",
   "name": "python",
   "nbconvert_exporter": "python",
   "pygments_lexer": "ipython3",
   "version": "3.10.13"
  },
  "papermill": {
   "default_parameters": {},
   "duration": 435.624221,
   "end_time": "2024-04-03T17:15:19.541163",
   "environment_variables": {},
   "exception": null,
   "input_path": "__notebook__.ipynb",
   "output_path": "__notebook__.ipynb",
   "parameters": {},
   "start_time": "2024-04-03T17:08:03.916942",
   "version": "2.5.0"
  }
 },
 "nbformat": 4,
 "nbformat_minor": 5
}
